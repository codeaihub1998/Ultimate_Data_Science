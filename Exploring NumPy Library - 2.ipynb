{
 "cells": [
  {
   "cell_type": "code",
   "execution_count": 2,
   "id": "3f40539f-e251-4cb6-98fe-19eb8bf83366",
   "metadata": {},
   "outputs": [
    {
     "ename": "TypeError",
     "evalue": "can only concatenate list (not \"int\") to list",
     "output_type": "error",
     "traceback": [
      "\u001b[1;31m---------------------------------------------------------------------------\u001b[0m",
      "\u001b[1;31mTypeError\u001b[0m                                 Traceback (most recent call last)",
      "Cell \u001b[1;32mIn[2], line 2\u001b[0m\n\u001b[0;32m      1\u001b[0m myl1 \u001b[38;5;241m=\u001b[39m [\u001b[38;5;241m101\u001b[39m,\u001b[38;5;241m201\u001b[39m,\u001b[38;5;241m301\u001b[39m,\u001b[38;5;241m401\u001b[39m]\n\u001b[1;32m----> 2\u001b[0m myl1\u001b[38;5;241m+\u001b[39m\u001b[38;5;241m3\u001b[39m\n",
      "\u001b[1;31mTypeError\u001b[0m: can only concatenate list (not \"int\") to list"
     ]
    }
   ],
   "source": [
    "myl1 = [101,201,301,401]\n",
    "myl1+3 # vector operations cannot be performed on list"
   ]
  },
  {
   "cell_type": "code",
   "execution_count": 3,
   "id": "f71a72f0-dba6-49d7-aff8-5475c1a0ba19",
   "metadata": {},
   "outputs": [
    {
     "name": "stdout",
     "output_type": "stream",
     "text": [
      "[122 222 322 422 522]\n"
     ]
    }
   ],
   "source": [
    "import numpy as mynp\n",
    "mynp1_arr = mynp.array([101,201,301,401,501])\n",
    "print(mynp1_arr+21) # vector operations will be performed on ndarray"
   ]
  },
  {
   "cell_type": "code",
   "execution_count": 4,
   "id": "69a8a75a-271a-4cba-ad0c-4d7d82bef497",
   "metadata": {},
   "outputs": [
    {
     "name": "stdout",
     "output_type": "stream",
     "text": [
      "The List size is -->  248\n",
      "The ndarray size is a -->  192\n"
     ]
    }
   ],
   "source": [
    "import numpy as mynp\n",
    "import sys\n",
    "\n",
    "myl1 = [loop for loop in range(11,31)]\n",
    "myndarray = mynp.array(myl1)\n",
    "print('The List size is --> ',sys.getsizeof(myl1))\n",
    "print('The ndarray size is a --> ',sys.getsizeof(myndarray))"
   ]
  },
  {
   "cell_type": "code",
   "execution_count": 5,
   "id": "b205ac25-312a-42a5-b9f9-bd644b6429e4",
   "metadata": {},
   "outputs": [],
   "source": [
    "import numpy as mynp\n",
    "from datetime import datetime\n",
    "myarr_1 = mynp.array([14,15,16])\n",
    "myarr_2 = mynp.array([11,12,13])"
   ]
  },
  {
   "cell_type": "code",
   "execution_count": 14,
   "id": "00d96299-7a4f-4713-ab6d-1fb4016c7a7e",
   "metadata": {},
   "outputs": [
    {
     "ename": "NameError",
     "evalue": "name 'my_result' is not defined",
     "output_type": "error",
     "traceback": [
      "\u001b[1;31m---------------------------------------------------------------------------\u001b[0m",
      "\u001b[1;31mNameError\u001b[0m                                 Traceback (most recent call last)",
      "Cell \u001b[1;32mIn[14], line 5\u001b[0m\n\u001b[0;32m      3\u001b[0m      my_result \u001b[38;5;241m=\u001b[39m \u001b[38;5;241m0\u001b[39m\n\u001b[0;32m      4\u001b[0m \u001b[38;5;28;01mfor\u001b[39;00m _x,_y \u001b[38;5;129;01min\u001b[39;00m \u001b[38;5;28mzip\u001b[39m(myarr_1,myarr_2):\n\u001b[1;32m----> 5\u001b[0m      my_result \u001b[38;5;241m+\u001b[39m\u001b[38;5;241m=\u001b[39m _x\u001b[38;5;241m*\u001b[39m_y\n\u001b[0;32m      6\u001b[0m \u001b[38;5;28;01mreturn\u001b[39;00m my_result\n\u001b[0;32m      7\u001b[0m mybefore_time \u001b[38;5;241m=\u001b[39m datetime\u001b[38;5;241m.\u001b[39mnow()\n",
      "\u001b[1;31mNameError\u001b[0m: name 'my_result' is not defined"
     ]
    }
   ],
   "source": [
    "#conventional Python code\n",
    "def my_dot_product(myarr_1,myarr_2):\n",
    "     my_result = 0\n",
    "for _x,_y in zip(myarr_1,myarr_2):\n",
    "     my_result += _x*_y\n",
    "return my_result\n",
    "mybefore_time = datetime.now()\n",
    "for myloop in range(2000000):\n",
    "    my_dot_product(myarr_1,myarr_2)\n",
    "    myafter_time = datetime.now()\n",
    "print('Time take to execute using conventional Python approach:',myafter_time-mybefore_time)"
   ]
  },
  {
   "cell_type": "code",
   "execution_count": 15,
   "id": "2f926b44-85da-4e1f-aa26-4750aab1a46a",
   "metadata": {},
   "outputs": [
    {
     "name": "stdout",
     "output_type": "stream",
     "text": [
      "Time take to execute using Numpy Library: 0:00:21.926362\n"
     ]
    }
   ],
   "source": [
    "#code using numpy library\n",
    "mybefore2_time = datetime.now()\n",
    "for my_loop in range(2000000):\n",
    "    mynp.dot(myarr_1,myarr_2) # using numpy\n",
    "myafter2_time = datetime.now()\n",
    "print('Time take to execute using Numpy Library:',myafter2_time-mybefore2_time)"
   ]
  },
  {
   "cell_type": "code",
   "execution_count": null,
   "id": "142c86f9-86d3-48b3-9a86-8d5876564b02",
   "metadata": {},
   "outputs": [],
   "source": [
    "# creating a 1-D array using a list\n",
    "import numpy as mynp\n",
    "my_l1 = [113,213,313,413,567]\n",
    "print(f'my_l1 type is: {type(my_l1)}')\n",
    "mynd_arr = mynp.array(my_l1)\n",
    "print('mynd_arr type is: --> '+ str(type(mynd_arr)))\n",
    "print('mynd_arr -->'+ str(mynd_arr))\n",
    "print('The Array dimensions is: '+ str(mynd_arr.ndim))\n",
    "print('The data type of array elements is : '+ str(mynd_arr.dtype))\n",
    "print('The array size is : '+ str(mynd_arr.size))\n",
    "print('The array shape is : '+ str(mynd_arr.shape))"
   ]
  },
  {
   "cell_type": "code",
   "execution_count": null,
   "id": "c074e37d-7e16-4814-95ee-ec620c374ee7",
   "metadata": {},
   "outputs": [],
   "source": [
    "# Creating a 1-D array using tuple\n",
    "import numpy as mynp\n",
    "mytuple = ('Ric','Pic','Tic','Mic')\n",
    "print('mytuple type is: ' + str(type(mytuple)))\n",
    "mynd_arr = mynp.array(mytuple)\n",
    "print('mynd_arr type is: --> ' + str(type(mynd_arr)))\n",
    "print('mynd_arr --> ' + str(mynd_arr))"
   ]
  },
  {
   "cell_type": "code",
   "execution_count": null,
   "id": "d77f797f-5b8e-4bad-946e-49a3addbfe51",
   "metadata": {},
   "outputs": [],
   "source": [
    "# creating a 2-D array using nested list\n",
    "import numpy as mynp\n",
    "my_nestedl1 = [[105,205,305],[405,505,605],\n",
    "[705,805,905],[1005,1105,1205]]\n",
    "mynd_arr = mynp.array(my_nestedl1)\n",
    "print('mynd_arr type is: --> ' + str(type(mynd_arr)))\n",
    "print('mynd_arr -->' + str(mynd_arr))\n",
    "print('The array dimensions is:'+ str(mynd_arr.ndim))\n",
    "print('The data type of array elements is : '+ str(mynd_arr.dtype))\n",
    "print('The array size is :'+ str(mynd_arr.size))\n",
    "print('The array shape is : ' + str(mynd_arr.shape))"
   ]
  },
  {
   "cell_type": "code",
   "execution_count": null,
   "id": "80930543-0a6b-4521-b91d-881702bc1cb4",
   "metadata": {},
   "outputs": [],
   "source": [
    "# list containing elements of different data type\n",
    "import numpy as mynp\n",
    "my_list = [201,301,420.5]\n",
    "mynd_arr = mynp.array(my_list) # upcasting to float data type\n",
    "print('mynd_arr -->'+str(mynd_arr))\n",
    "print('Elements data type is --> ' + str(mynd_arr.dtype))"
   ]
  },
  {
   "cell_type": "code",
   "execution_count": null,
   "id": "dde9f0ec-3e77-4591-ab66-f3545790b787",
   "metadata": {},
   "outputs": [],
   "source": [
    "import numpy as mynp\n",
    "# int type\n",
    "mynd_arr = mynp.array([101,201,410.8,0],dtype=int)\n",
    "print(mynd_arr)\n",
    "# float type\n",
    "mynd_arr =\n",
    "mynp.array([101,201,410.8,0],dtype=float)\n",
    "print(mynd_arr)\n",
    "# bool type : True for non-empty string and\n",
    "number, False for empty string and 0\n",
    "mynd_arr = mynp.array([101,201,410.8, 0,\n",
    "'','BoolType','False'],dtype=bool)\n",
    "print(mynd_arr)\n",
    "# complex type\n",
    "mynd_arr =\n",
    "mynp.array([101,201,410.8,0],dtype=complex)\n",
    "print(mynd_arr)\n",
    "# str type\n",
    "mynd_arr = mynp.array([101,201,410.8,0],dtype=str)\n",
    "print(mynd_arr)"
   ]
  },
  {
   "cell_type": "code",
   "execution_count": null,
   "id": "e5bd91c6-9343-434f-96ad-7b61e5ca9ff4",
   "metadata": {},
   "outputs": [],
   "source": [
    "import numpy as mynp\n",
    "mynd_arr = mynp.array([410,'Yathartha',410.5,True,3+7j,False], dtype=object)\n",
    "print(mynd_arr)\n",
    "print('The elements data type of mynd_Arr is:' + str(mynd_arr.dtype))"
   ]
  },
  {
   "cell_type": "code",
   "execution_count": null,
   "id": "16138a84-0b8d-4ebc-8238-92f67a0ed899",
   "metadata": {},
   "outputs": [],
   "source": [
    "import numpy as mynp\n",
    "mynd_arr = mynp.arange(7)\n",
    "print('mynd_arr is:' + str(mynd_arr))\n",
    "print('The array dimensions is: ' + str(mynd_arr.ndim))\n",
    "print('The data type of elements of array is : ' + str(mynd_arr.dtype))"
   ]
  },
  {
   "cell_type": "code",
   "execution_count": null,
   "id": "01a8c275-9cee-4ab4-a5c5-24b97b7c6056",
   "metadata": {},
   "outputs": [],
   "source": [
    "print('The array size is : ' + str(mynd_arr.size))\n",
    "print('The array shape is : ' + str(mynd_arr.shape))\n",
    "print('-'*50)\n",
    "mynd_arr1 = mynp.arange(1,7)\n",
    "print('mynd_arr1 is:' + str(mynd_arr1))\n",
    "print('The array dimensions is: ' + str(mynd_arr1.ndim))\n",
    "print('The data type of elements of array is : ' + str(mynd_arr1.dtype))\n",
    "print('The array size is : ' + str(mynd_arr1.size))\n",
    "print('The array shape is : ' + str(mynd_arr1.shape))\n",
    "print('-'*50)\n",
    "mynd_arr2 = mynp.arange(1,7,2)\n",
    "print('mynd_arr is:' + str(mynd_arr2))"
   ]
  },
  {
   "cell_type": "code",
   "execution_count": null,
   "id": "b71cffc3-ffec-4598-8ca3-b8e9aad886e3",
   "metadata": {},
   "outputs": [],
   "source": [
    "print('The array dimensions is: ' + str(mynd_arr2.ndim))\n",
    "print('The data type of elements of array is : ' + str(mynd_arr2.dtype))\n",
    "print('The array size is : ' + str(mynd_arr2.size))\n",
    "print('The array shape is : ' + str(mynd_arr2.shape))\n",
    "print('-'*50)\n",
    "mynd_arr3 = mynp.arange(1,7,3,dtype=float)\n",
    "print('mynd_arr is:' + str(mynd_arr3))\n",
    "print('The array dimensions is: ' + str(mynd_arr3.ndim))\n",
    "print('The data type of elements of array is : ' + str(mynd_arr3.dtype))\n",
    "print('The array size is : ' + str(mynd_arr3.size))\n",
    "print('The array shape is : ' + str(mynd_arr3.shape))"
   ]
  },
  {
   "cell_type": "code",
   "execution_count": null,
   "id": "7c2b5c98-a55b-4db0-a537-b696675eb624",
   "metadata": {},
   "outputs": [],
   "source": [
    "import numpy as mynp\n",
    "# evenly spaced values of no. of samples as 50 between 0 and 2 which includes both 0 and 2\n",
    "print(mynp.linspace(0,2))\n",
    "print('-'*50)\n",
    "# 3 evenly spaced values between 0 and 2 and also including both 0 and 2\n",
    "print(mynp.linspace(0,2,3))\n",
    "print('-'*50)\n",
    "# 3 evenly spaced values between 0 and 2 and also including 0 but excluding 2\n",
    "print(mynp.linspace(0,2,3, endpoint=False))"
   ]
  },
  {
   "cell_type": "code",
   "execution_count": null,
   "id": "259836c6-206e-4566-b8cd-aec2f4fcb773",
   "metadata": {},
   "outputs": [],
   "source": [
    "print('-'*50)\n",
    "# 3 evenly spaced values between 0 and 2 and also including 0 but excluding 2 and also returning spacing\n",
    "print(mynp.linspace(0,2,3, endpoint=False,\n",
    "retstep=True))\n",
    "print('-'*50)\n",
    "# 5 values between 2 to 50 including both 2 and 50 with equally spacing int type values with spacing as 12.0\n",
    "print(mynp.linspace(2,50,5, dtype=int, retstep=True))"
   ]
  },
  {
   "cell_type": "code",
   "execution_count": null,
   "id": "26193fd1-e41e-4f5f-bfe0-da18408ed89f",
   "metadata": {},
   "outputs": [],
   "source": [
    "import numpy as mynp\n",
    "\n",
    "# Creating 1-D array with zeros\n",
    "print(mynp.zeros(4))\n",
    "print('-'*50)\n",
    "# Creating 2-D array with zeros\n",
    "print(mynp.zeros((4,4)))\n",
    "print('-'*50)\n",
    "# Creating 3-D array with zeros\n",
    "print(mynp.zeros((2,3,2)))\n",
    "print('-'*50)\n",
    "# Creating 4-D array with zeros\n",
    "print(mynp.zeros((3,1,2,3)))"
   ]
  },
  {
   "cell_type": "code",
   "execution_count": null,
   "id": "f86248db-5117-4cd2-95a6-78abb217cdb7",
   "metadata": {},
   "outputs": [],
   "source": [
    "import numpy as mynp\n",
    "\n",
    "# Creating 1-D array with ones\n",
    "print(mynp.ones(4))\n",
    "print('-'*50)\n",
    "# Creating 2-D array with ones\n",
    "print(mynp.ones((4,2), dtype = int))\n",
    "print('-'*50)\n",
    "# Creating 3-D array with ones\n",
    "print(mynp.ones((3,2,4), dtype = int))"
   ]
  },
  {
   "cell_type": "code",
   "execution_count": null,
   "id": "1de15bd9-0b3c-446e-adcf-77d50f3e7447",
   "metadata": {},
   "outputs": [],
   "source": [
    "import numpy as mynp\n",
    "\n",
    "print(help(mynp.full))"
   ]
  },
  {
   "cell_type": "code",
   "execution_count": null,
   "id": "734215e9-cdc2-472e-89db-bef034bf624c",
   "metadata": {},
   "outputs": [],
   "source": [
    "import numpy as mynp\n",
    "\n",
    "# Creating 1-D array\n",
    "print(mynp.full(shape=4,fill_value=2))\n",
    "print('-'*50)\n",
    "# Creating 2-D array\n",
    "print(mynp.full((3,2),fill_value=2))\n",
    "print('-'*50)\n",
    "# Creating 3-D array\n",
    "print(mynp.full((3,2,3),2)) # fill_value here is 2"
   ]
  },
  {
   "cell_type": "code",
   "execution_count": null,
   "id": "84310a0e-94a8-4f30-a7a7-79bd82ef241a",
   "metadata": {},
   "outputs": [],
   "source": [
    "import numpy as mynp\n",
    "\n",
    "print(help(mynp.eye))"
   ]
  },
  {
   "cell_type": "code",
   "execution_count": null,
   "id": "45da4458-4a09-4318-a07a-6cba057cdaf3",
   "metadata": {},
   "outputs": [],
   "source": [
    "import numpy as mynp\n",
    "\n",
    "# Creating 2-D array with default value k = 0\n",
    "print(mynp.eye(2,4))\n",
    "print('-'*50)\n",
    "# Creating 2-D array with k = 1\n",
    "print(mynp.eye(5, k=1))\n",
    "print('-'*50)\n",
    "# Creating 2-D array with k = 2\n",
    "print(mynp.eye(5, k=2))\n",
    "print('-'*50)\n",
    "# Creating 2-D array with k = -1\n",
    "print(mynp.eye(5, k=-1))\n",
    "print('-'*50)\n",
    "# Creating 2-D array with k = -2\n",
    "print(mynp.eye(5, k=-2))"
   ]
  },
  {
   "cell_type": "code",
   "execution_count": null,
   "id": "17033bf1-cf20-442a-a507-68c01100210c",
   "metadata": {},
   "outputs": [],
   "source": [
    "import numpy as mynp\n",
    "\n",
    "print(help(mynp.diag))"
   ]
  },
  {
   "cell_type": "code",
   "execution_count": null,
   "id": "a9abd46e-3a90-45f1-8135-b92e2006dd30",
   "metadata": {},
   "outputs": [],
   "source": [
    "import numpy as mynp\n",
    "# Extracting 2-D diagonal elements\n",
    "myndarray = mynp.arange(17,33).reshape(4,4)\n",
    "print(\"2-D Original array is : \\n \" + str(myndarray))\n",
    "print(\"The elements present at 0-diagonal : \" + str(mynp.diag(myndarray,k=0)))\n",
    "print(\"The elements present at 1-diagonal : \" + str(mynp.diag(myndarray,k=1)))\n",
    "print(\"The elements present at 2-diagonal : \" + str(mynp.diag(myndarray,k=2)))\n",
    "print(\"The elements present at -1-diagonal : \" + str(mynp.diag(myndarray,k=-1)))\n",
    "print(\"The elements present at -2-diagonal : \" + str(mynp.diag(myndarray,k=-2)))\n",
    "print(\"The elements present at 3-diagonal : \" + str(mynp.diag(myndarray,k=3)))\n",
    "print(\"The elements present at -3-diagonal : \" + str(mynp.diag(myndarray,k=-3)))\n",
    "print('-'*50)\n",
    "\n",
    "\n",
    "# 1-D construct a 2-D array using the provided elements and a diagonal array;\n",
    "# and here the remaining elements are all filled with zeros.\n",
    "mynd_arr1 = mynp.array([101,201,301,401,501])\n",
    "print(mynp.diag(mynd_arr1,k=0))\n",
    "print('-'*50)\n",
    "mynd_arr2 = mynp.array([101,201,301,401,501])\n",
    "print(mynp.diag(mynd_arr2,k=1))\n",
    "print('-'*50)\n",
    "mynd_arr3 = mynp.array([101,201,301,401,501])\n",
    "print(mynp.diag(mynd_arr3,k=-1))"
   ]
  },
  {
   "cell_type": "code",
   "execution_count": null,
   "id": "06752d09-da3b-4cab-9b31-73b21cb8781c",
   "metadata": {},
   "outputs": [],
   "source": [
    "import numpy as mynp\n",
    "print(mynp.empty((4,3)))"
   ]
  },
  {
   "cell_type": "code",
   "execution_count": null,
   "id": "f40fb564-efe9-46dc-9e4f-7fd5161ec497",
   "metadata": {},
   "outputs": [],
   "source": [
    "# np.random module examples\n",
    "import numpy as mynp\n",
    "import sys\n",
    "# single random integer value generation in the range between 20 to 29\n",
    "print(mynp.random.randint(20,30))\n",
    "print('-'*50)\n",
    "# 1-D nd-array creation of size 5 with random values from 10 to 19\n",
    "print(mynp.random.randint(10,20, size=5))\n",
    "print('-'*50)\n",
    "# 2-D array with high as None and random values from 0 to 49 with shape as (3,4)\n",
    "print(mynp.random.randint(0,50, size=(3,4)))\n",
    "print('-'*50)\n",
    "# memory utilization is improved using dtype\n",
    "a = mynp.random.randint(1,21,size=(30,40))\n",
    "print(f\"ndarray int32 size: {sys.getsizeof(a)}\")\n",
    "a = mynp.random.randint(1,21,size=(30,40),dtype='int8')\n",
    "print(f\"ndarray int8 size : {sys.getsizeof(a)}\")"
   ]
  },
  {
   "cell_type": "code",
   "execution_count": null,
   "id": "0bff1583-bf97-4c34-8b15-2d59c3a8b5f1",
   "metadata": {},
   "outputs": [],
   "source": [
    "import numpy as mynp\n",
    "# print(help(mynp.random.shuffle)) # This will\n",
    "display help of shuffle function\n",
    "# shuffling of 1-D array\n",
    "mynp1 = mynp.arange(6)\n",
    "print(f'before shuffle mynp1 data is {mynp1}')\n",
    "mynp.random.shuffle(mynp1)\n",
    "print(f'after shuffle mynp1 data is {mynp1}')\n",
    "print('-'*50)\n",
    "# shuffling of 2-D array -- shuffling around axis0\n",
    "mynp2 = mynp.random.randint(1,50,size=(4,3))\n",
    "print(f'before shuffle mynp2 data is {mynp2}')\n",
    "mynp.random.shuffle(mynp2)\n",
    "print(f'after shuffle mynp2 data is {mynp2}')"
   ]
  },
  {
   "cell_type": "code",
   "execution_count": null,
   "id": "6256a5c0-e5a4-41d8-b5a4-10791531802b",
   "metadata": {},
   "outputs": [],
   "source": [
    "import numpy as mynp\n",
    "# Example of view\n",
    "mynp1=mynp.array([16,28,37,46,55])\n",
    "mynp2=mynp1.view()\n",
    "print(f\"The original array is: {mynp1}\")\n",
    "print(f\"The view array is: {mynp2}\")\n",
    "print('-'*50)\n",
    "mynp1[2]=100\n",
    "print(f\"After changing 2nd index value of mynp1, mynp1 array value is changed as: {mynp1}\")\n",
    "print(f\"After changing 2nd index value of mynp1, mynp2 array value is changed as: {mynp2}\")\n",
    "print('-'*50)\n",
    "mynp2[-1]=300\n",
    "print(f\"After changing last index value of mynp2, mynp1 array value is changed as: {mynp1}\")\n",
    "\n",
    "print(f\"After changing last index value of mynp2, mynp2 array value is changed as: {mynp2}\")\n",
    "# Example of copy\n",
    "print('*'*100)\n",
    "mynp3=mynp.array([111,132,136,147,158])\n",
    "mynp4=mynp3.copy()\n",
    "print(f\"The original array is: {mynp3}\")\n",
    "print(f\"The copy array is: {mynp4}\")\n",
    "print('-'*50)\n",
    "mynp3[2]=110\n",
    "print(f\"After changing 2nd index value of mynp3, mynp3 array value is changed as: {mynp3}\")\n",
    "print(f\"After changing 2nd index value of mynp3, mynp4 array value is retained as: {mynp4}\")\n",
    "print('-'*50)\n",
    "mynp4[-1]=310\n",
    "print(f\"After changing last index value of mynp4, mynp3 array value is retained as: {mynp3}\")\n",
    "print(f\"After changing last index value of mynp4, mynp4 array value is changed as: {mynp4}\")"
   ]
  },
  {
   "cell_type": "code",
   "execution_count": null,
   "id": "e029a35c-b91f-4a18-8d36-e94cfc24619d",
   "metadata": {},
   "outputs": [],
   "source": [
    "import numpy as mynp\n",
    "# We will be accessing elements of 3-D numpy array\n",
    "mynd1 = mynp.array([\n",
    " [[111,112,113],[114,115,116],[117,118,119]],\n",
    " [[11,21,31],[41,51,61],[71,81,91]]])\n",
    "\n",
    "\n",
    "# 1. using indexing: single element access, zero based indexing supporting both +ve and -ve\n",
    "print(f\"Array shape is: ==> {mynd1.shape}\")\n",
    "print(\"To access the element 19 from the 3-D array\")\n",
    "print(f\"mynd1[0][2][2] ==> {mynd1[0][2][2]}\")\n",
    "print(f\"mynd1[-2][-1][-1] ==> {mynd1[-2][-1][-1]}\")\n",
    "print('-'*50)\n",
    "\n",
    "\n",
    "# 2. using slicing: elements group which are in order\n",
    "print(\"Accessing elements: 0th and 2nd row of 0th and 2nd column value of each 2-D array\")\n",
    "print(f\"mynd1[:,::2,::2] ==> {mynd1[:,::2,::2]}\")\n",
    "print('-'*50) \n",
    "# 3. using advanced indexing: elements group which are not ordered (arbitrary elements)\n",
    "# In order to access 3-D array arbitrary elements use\n",
    "e\n",
    "# myndarray[[2-D array indices],[row indices], [column indices]]\n",
    "print(\"To access element 15 and 5 from 3-D array\")\n",
    "print(mynd1[[0,1],[1,1],[1,1]])\n",
    "print('-'*50) \n",
    "# 4. using condition based selection: selecting array elements based on condition\n",
    "mynp2=mynp.arange(11,23).reshape(3,4)\n",
    "print(mynp2[mynp2%2 !=0]) # displaying odd numbers from an array as condition will return the boolean value\n",
    "# and array[condition] will return the result"
   ]
  },
  {
   "cell_type": "code",
   "execution_count": null,
   "id": "16246881-7383-4ecb-aaf0-022319483573",
   "metadata": {},
   "outputs": [],
   "source": [
    "import numpy as mynp\n",
    "\n",
    "# Approach1: iteration using Python loop \n",
    "# we are iterating elements of 3-D array\n",
    "myarr1 = mynp.array([[[34,44],[54,64]],[[74,84],[94,104]]])\n",
    "for outer in myarr1: #iterating 2-D array with no scalar value\n",
    " for inner in outer: # iterating 1-D array with no scalar value\n",
    " for data in inner: # here data is a scalar value\n",
    " print(data)\n",
    "print('-'*50))\n",
    "\n",
    "# Approach2: iteration using nditer() function:\n",
    "# class in numpy library with only one loop for iterating any n-D array\n",
    "myarr2=mynp.arange(21,27).reshape(2,3)\n",
    "for loop in mynp.nditer(myarr2):\n",
    " print(loop)\n",
    "print('-'*50)\n",
    "# Approach3: iteration using ndenumerate() function\n",
    "# This function will return indexes in addition to elements as multidimensional\n",
    "# index iterator will be returned yielding pair of index-tuple with the corresponding array values\n",
    "for mypos,myelement in mynp.ndenumerate(myarr2):\n",
    " print(f'{myelement} is present at position:{mypos}')   "
   ]
  },
  {
   "cell_type": "code",
   "execution_count": null,
   "id": "0f32c131-ac72-48b2-8c65-62f6df21aa94",
   "metadata": {},
   "outputs": [],
   "source": [
    "import numpy as mynp\n",
    "myarr1 = mynp.array([ [21,31,41], [52,62,72] ])\n",
    "myarr2 = mynp.arange(21,27).reshape(2,3)\n",
    "print(f\"Dimension of myarr1 is : {myarr1.ndim}, size of myarr1 is :{myarr1.size} \n",
    "and shape of myarr1 is : {myarr1.shape}\")\n",
    "\n",
    "print(f\"Dimension of myarr2 is : {myarr2.ndim},\n",
    "size of myarr2 is :{myarr2.size} and shape of\n",
    "myarr2 is : {myarr2.shape}\")\n",
    "print(f'Numpy array 1 is: {myarr1}')\n",
    "print(f'Numpy array 2 is: {myarr2}')\n",
    "\n",
    "# performing addition\n",
    "print('-'*50)\n",
    "print(f\"Addition of 2 numpy arrays is{mynp.add(myarr1,myarr2)}\")\n",
    "# performing subtraction\n",
    "print('-'*50)\n",
    "print(f\"Subtraction of 2 numpy arrays is{mynp.subtract(myarr1,myarr2)}\")\n",
    "# performing multiplication\n",
    "print('-'*50)\n",
    "print(f\"Multiplication of 2 numpy arrays is{mynp.multiply(myarr1,myarr2)}\")\n",
    "# performing division\n",
    "print('-'*50)\n",
    "print(f\"Division of 2 numpy arrays is\n",
    "{mynp.divide(myarr1,myarr2)}\")\n",
    "# performing floor division\n",
    "print('-'*50)\n",
    "print(f\"Floor division of 2 numpy arrays is{mynp.floor_divide(myarr1,myarr2)}\")\n",
    "# performing modulus\n",
    "print('-'*50)\n",
    "print(f\"Modulus of 2 numpy arrays is{mynp.mod(myarr1,myarr2)}\")\n",
    "# performing power\n",
    "print('-'*50)\n",
    "print(f\"Power of 2 numpy arrays is{mynp.power(myarr1,myarr2)}\")"
   ]
  },
  {
   "cell_type": "code",
   "execution_count": null,
   "id": "92388bf9-a30f-4d3a-b779-7f23051ded75",
   "metadata": {},
   "outputs": [],
   "source": [
    "import numpy as mynp\n",
    "\n",
    "print(\"Broadcasting of 1-D array--------------\")\n",
    "# Broadcasting of 1-D array\n",
    "myarr1=mynp.array([21,22,23])\n",
    "myarr2= mynp.array([10])\n",
    "print(f\"myarr1 is {myarr1}\")\n",
    "print(f\"myarr2 is {myarr2}\")\n",
    "print(f\"myarr1+myarr2 is: {myarr1+myarr2}\")\n",
    "\n",
    "# myarr1 is [21 22 23]\n",
    "# on broadcasting myarr2 becomes [10 10 10]\n",
    "# answer becomes [31 32 33]\n",
    "print(\"Broadcasting of 2-D array--------------\")\n",
    "myarr3= mynp.arange(21,27).reshape(2,3)\n",
    "myarr4= mynp.array([10,12,13])\n",
    "print(f\"myarr3 is {myarr3}\")\n",
    "print(f\"myarr4 is {myarr4}\")\n",
    "print(f\"myarr3+myarr4 is: {myarr3+myarr4}\")\n",
    "# myarr3 is [21 22 23]\n",
    "# [24 25 26]\n",
    "# on broadcasting myarr4 becomes [10 12 13]\n",
    "# [10 12 13]\n",
    "# answer becomes [31 34 36]\n"
   ]
  },
  {
   "cell_type": "markdown",
   "id": "6e19c3d0-b8a7-443e-a160-2c37a8ebd460",
   "metadata": {},
   "source": [
    "Happy Programming"
   ]
  }
 ],
 "metadata": {
  "kernelspec": {
   "display_name": "Python 3 (ipykernel)",
   "language": "python",
   "name": "python3"
  },
  "language_info": {
   "codemirror_mode": {
    "name": "ipython",
    "version": 3
   },
   "file_extension": ".py",
   "mimetype": "text/x-python",
   "name": "python",
   "nbconvert_exporter": "python",
   "pygments_lexer": "ipython3",
   "version": "3.12.7"
  }
 },
 "nbformat": 4,
 "nbformat_minor": 5
}
